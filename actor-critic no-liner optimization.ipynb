{
 "cells": [
  {
   "cell_type": "markdown",
   "metadata": {},
   "source": [
    "#### Introduction"
   ]
  },
  {
   "cell_type": "markdown",
   "metadata": {},
   "source": [
    "- env = gym.make(\"Pendulum-v0\")"
   ]
  },
  {
   "cell_type": "markdown",
   "metadata": {},
   "source": [
    "#### Method\n",
    "Add batch normalization"
   ]
  },
  {
   "cell_type": "code",
   "execution_count": 1,
   "metadata": {},
   "outputs": [],
   "source": [
    "import tensorflow as tf\n",
    "import numpy as np\n",
    "import gym\n",
    "\n",
    "# reproducible\n",
    "np.random.seed(1)\n",
    "tf.set_random_seed(1)"
   ]
  },
  {
   "cell_type": "markdown",
   "metadata": {},
   "source": [
    "#### Build A Noliner Function\n",
    "#### 构建一个非线性函数"
   ]
  },
  {
   "cell_type": "code",
   "execution_count": 2,
   "metadata": {},
   "outputs": [],
   "source": [
    "def y_fun( x ):\n",
    "    x0 = x[0]\n",
    "    x1 = x[1]\n",
    "    x2 = x[2]\n",
    "    x3 = x[3]\n",
    "    x4 = x[4]\n",
    "    x5 = x[5]\n",
    "    x6 = x[6]\n",
    "    return np.cos(x0) + x1**2 + x1*x2 + np.sin(x3) + x4**3 +x4*x5*x6**2"
   ]
  },
  {
   "cell_type": "markdown",
   "metadata": {},
   "source": [
    "#### DDPG Algorithm"
   ]
  },
  {
   "cell_type": "code",
   "execution_count": 3,
   "metadata": {},
   "outputs": [],
   "source": [
    "\"\"\"\n",
    "View more on the tutorial page: https://morvanzhou.github.io/tutorials/\n",
    "\"\"\"\n",
    "\n",
    "import tensorflow as tf\n",
    "import numpy as np\n",
    "import gym\n",
    "\n",
    "# reproducible\n",
    "np.random.seed(1)\n",
    "tf.set_random_seed(1)\n",
    "#####################  hyper parameters  ####################\n",
    "\n",
    "\n",
    "MAX_EP_STEPS = 500\n",
    "LR_A = 0.001    # learning rate for actor\n",
    "LR_C = 0.002    # learning rate for critic\n",
    "GAMMA = 0.9     # reward discount\n",
    "TAU = 0.01      # soft replacement\n",
    "MEMORY_CAPACITY = 10000\n",
    "BATCH_SIZE = 32\n",
    "\n",
    "RENDER = False\n",
    "\n",
    "###############################  DDPG  ####################################\n",
    "\n",
    "class DDPG(object):\n",
    "    def __init__(self):\n",
    "        self.memory = np.zeros((MEMORY_CAPACITY, 7+1), dtype=np.float32)\n",
    "        self.pointer = 0\n",
    "        self.sess = tf.Session()\n",
    "#         self.var = 3.0\n",
    "        # self.a_replace_counter, self.c_replace_counter = 0, 0\n",
    "\n",
    "#         self.a_dim, self.s_dim, self.a_bound = a_dim, s_dim, a_bound,\n",
    "\n",
    "        self.x_dim = x_dim = 7\n",
    "        self.one = tf.placeholder(tf.float32, [None, 1], 'one')\n",
    "#         self.x = tf.placeholder(tf.float32, [None, x_dim], 'x')\n",
    "        self.y = tf.placeholder(tf.float32, [None, 1], 'y')\n",
    "\n",
    "        with tf.variable_scope('Actor'):\n",
    "            self.x = self.build_a_nn(self.one, scope='eval', trainable=True)\n",
    "#             a_ = self.build_a_nn(self.S_, scope='target', trainable=False)\n",
    "        with tf.variable_scope('Critic'):\n",
    "            # assign self.a = a in memory when calculating q for td_error,\n",
    "            # otherwise the self.a is from Actor when updating Actor\n",
    "            y = self.build_c_nn(self.x, scope='eval', trainable=True)\n",
    "\n",
    "        self.ae_params = tf.get_collection(tf.GraphKeys.GLOBAL_VARIABLES, scope='Actor/eval')\n",
    "        self.ce_params = tf.get_collection(tf.GraphKeys.GLOBAL_VARIABLES, scope='Critic/eval')\n",
    "            \n",
    "        td_error = tf.losses.mean_squared_error(labels=(self.y), predictions=y)\n",
    "        self.ctrain = tf.train.AdamOptimizer(LR_C).minimize(td_error, name=\"adam-ink\",  var_list = self.ce_params)\n",
    "\n",
    "        a_loss = - tf.reduce_mean(y)    # maximize the q\n",
    "        self.atrain = tf.train.AdamOptimizer(LR_A).minimize(a_loss, var_list=self.ae_params)\n",
    "\n",
    "        tf.summary.FileWriter(\"logs/\", self.sess.graph)\n",
    "\n",
    "        self.sess.run(tf.global_variables_initializer())\n",
    "\n",
    "       \n",
    "\n",
    "    def choose_action(self, s):\n",
    "#         a = self.sess.run(self.x, {self.one: s[np.newaxis, :]})[0]\n",
    "        a = self.sess.run(self.x, {self.one: [[1.]]})[0]\n",
    "#         a = np.clip(np.random.normal(a, self.var), -2, 2)\n",
    "        \n",
    "        return a\n",
    "\n",
    "    def learn(self):\n",
    "        # soft target replacement\n",
    "#         self.sess.run(self.soft_replace)\n",
    "\n",
    "        indices = np.random.choice( min(MEMORY_CAPACITY, self.pointer) , size=BATCH_SIZE)\n",
    "        bt = self.memory[indices, :]\n",
    "        bx = bt[:, :7]\n",
    "        by = bt[:, -1:]\n",
    "\n",
    "        self.sess.run(self.atrain, {self.one: np.ones( (32,1) ) })\n",
    "        self.sess.run(self.ctrain, {self.x: bx, self.y: by })\n",
    "\n",
    "    def store_transition(self, x,y):\n",
    "        trans = np.hstack( (x, y) )\n",
    "        \n",
    "        index = self.pointer % MEMORY_CAPACITY\n",
    "        self.memory[index, :] = trans\n",
    "        self.pointer += 1\n",
    "\n",
    "        if self.pointer > 100:\n",
    "            self.learn()\n",
    "            \n",
    "    def build_a_nn(self, s, scope, trainable):\n",
    "        # Actor DPG\n",
    "        with tf.variable_scope(scope):\n",
    "            l1 = tf.layers.dense(s, 30, activation = tf.nn.relu, name = 'l1', trainable = trainable)\n",
    "            l2 = tf.layers.dense(l1, 30, activation = tf.nn.relu, name = 'l2', trainable = trainable)\n",
    "            a = tf.layers.dense(l2, self.x_dim, name = 'a', trainable = trainable)     \n",
    "            return a #tf.multiply(a, self.a_bound, name = \"scaled_a\")  \n",
    "    def build_c_nn(self, x, scope, trainable):\n",
    "        # Critic Q-leaning\n",
    "        with tf.variable_scope(scope):\n",
    "            l1 = tf.layers.dense(x, 30, activation = tf.nn.relu, name = 'l1', trainable = trainable)\n",
    "            l2 = tf.layers.dense(l1, 30, activation = tf.nn.relu, name = 'l2', trainable = trainable)\n",
    "            y = tf.layers.dense(l2, 1, name = 'a', trainable = trainable)     \n",
    "            return y #tf.multiply(a, self.a_bound, name = \"scaled_a\")  \n",
    "\n",
    "    \n",
    "###############################  training  ####################################\n"
   ]
  },
  {
   "cell_type": "code",
   "execution_count": 4,
   "metadata": {},
   "outputs": [],
   "source": [
    "agent = DDPG()"
   ]
  },
  {
   "cell_type": "code",
   "execution_count": 5,
   "metadata": {},
   "outputs": [],
   "source": [
    "for i in range(100):\n",
    "    x = np.random.rand(7)*100\n",
    "#     print(\"x: \", x)\n",
    "    y = y_fun(x)\n",
    "    \n",
    "    agent.store_transition(x, y)"
   ]
  },
  {
   "cell_type": "code",
   "execution_count": 6,
   "metadata": {},
   "outputs": [],
   "source": [
    "from tqdm import trange"
   ]
  },
  {
   "cell_type": "code",
   "execution_count": 8,
   "metadata": {},
   "outputs": [],
   "source": [
    "best_value_save = []"
   ]
  },
  {
   "cell_type": "code",
   "execution_count": 9,
   "metadata": {
    "scrolled": true
   },
   "outputs": [
    {
     "name": "stderr",
     "output_type": "stream",
     "text": [
      " 10%|▉         | 99/1000 [00:00<00:01, 483.30it/s]"
     ]
    },
    {
     "name": "stdout",
     "output_type": "stream",
     "text": [
      "i:  9 best value:  0.924077419718\n",
      "i:  19 best value:  0.869085793682\n",
      "i:  29 best value:  0.858021008987\n",
      "i:  39 best value:  0.948468419885\n",
      "i:  49 best value:  1.4203297228\n",
      "i:  59 best value:  3.02580809309\n",
      "i:  69 best value:  8.02650587224\n",
      "i:  79 best value:  23.5415521335\n",
      "i:  89 best value:  72.4609008752\n",
      "i:  99 best value:  225.290378809\n",
      "i:  109 best value:  691.542532641\n"
     ]
    },
    {
     "name": "stderr",
     "output_type": "stream",
     "text": [
      " 20%|██        | 201/1000 [00:00<00:01, 492.71it/s]"
     ]
    },
    {
     "name": "stdout",
     "output_type": "stream",
     "text": [
      "i:  119 best value:  2058.29662817\n",
      "i:  129 best value:  5864.15517934\n",
      "i:  139 best value:  15900.3312718\n",
      "i:  149 best value:  40903.8955189\n",
      "i:  159 best value:  100219.032767\n",
      "i:  169 best value:  234507.254711\n",
      "i:  179 best value:  526385.295351\n",
      "i:  189 best value:  1137249.47535\n",
      "i:  199 best value:  2369087.35427\n",
      "i:  209 best value:  4775964.98356\n"
     ]
    },
    {
     "name": "stderr",
     "output_type": "stream",
     "text": [
      " 31%|███       | 311/1000 [00:00<00:01, 510.14it/s]"
     ]
    },
    {
     "name": "stdout",
     "output_type": "stream",
     "text": [
      "i:  219 best value:  9333796.42469\n",
      "i:  229 best value:  17693480.3945\n",
      "i:  239 best value:  32621001.6168\n",
      "i:  249 best value:  58651263.7903\n",
      "i:  259 best value:  103207141.326\n",
      "i:  269 best value:  178015948.98\n",
      "i:  279 best value:  301159122.918\n",
      "i:  289 best value:  500467081.73\n",
      "i:  299 best value:  816583890.9\n",
      "i:  309 best value:  1307567593.7\n",
      "i:  319 best value:  2058047882.7\n",
      "i:  329 best value:  3188633043.44\n"
     ]
    },
    {
     "name": "stderr",
     "output_type": "stream",
     "text": [
      " 42%|████▏     | 415/1000 [00:00<00:01, 510.33it/s]"
     ]
    },
    {
     "name": "stdout",
     "output_type": "stream",
     "text": [
      "i:  339 best value:  4873399644.74\n",
      "i:  349 best value:  7358028282.67\n",
      "i:  359 best value:  10987326731.3\n",
      "i:  369 best value:  16227034120.9\n",
      "i:  379 best value:  23682983544.9\n",
      "i:  389 best value:  34149538824.3\n",
      "i:  399 best value:  48711199970.4\n",
      "i:  409 best value:  68796592757.6\n",
      "i:  419 best value:  96170516319.1\n",
      "i:  429 best value:  133080986558.0\n",
      "i:  439 best value:  182446205757.0\n"
     ]
    },
    {
     "name": "stderr",
     "output_type": "stream",
     "text": [
      " 52%|█████▏    | 522/1000 [00:01<00:00, 514.14it/s]"
     ]
    },
    {
     "name": "stdout",
     "output_type": "stream",
     "text": [
      "i:  449 best value:  247926845067.0\n",
      "i:  459 best value:  334142105379.0\n",
      "i:  469 best value:  446999084099.0\n",
      "i:  479 best value:  593770867496.0\n",
      "i:  489 best value:  783161783307.0\n",
      "i:  499 best value:  1.02599575974e+12\n",
      "i:  509 best value:  1.33596187092e+12\n",
      "i:  519 best value:  1.72932365321e+12\n",
      "i:  529 best value:  2.22488838691e+12\n",
      "i:  539 best value:  2.84554428288e+12\n",
      "i:  549 best value:  3.61892423521e+12\n"
     ]
    },
    {
     "name": "stderr",
     "output_type": "stream",
     "text": [
      " 63%|██████▎   | 633/1000 [00:01<00:00, 516.95it/s]"
     ]
    },
    {
     "name": "stdout",
     "output_type": "stream",
     "text": [
      "i:  559 best value:  4.57693325874e+12\n",
      "i:  569 best value:  5.75608368112e+12\n",
      "i:  579 best value:  7.20019005675e+12\n",
      "i:  589 best value:  8.96523195557e+12\n",
      "i:  599 best value:  1.11161010995e+13\n",
      "i:  609 best value:  1.37277701952e+13\n",
      "i:  619 best value:  1.68924378455e+13\n",
      "i:  629 best value:  2.07137840558e+13\n",
      "i:  639 best value:  2.53167899546e+13\n",
      "i:  649 best value:  3.08464498253e+13\n",
      "i:  659 best value:  3.7445811806e+13\n"
     ]
    },
    {
     "name": "stderr",
     "output_type": "stream",
     "text": [
      " 74%|███████▍  | 738/1000 [00:01<00:00, 516.68it/s]"
     ]
    },
    {
     "name": "stdout",
     "output_type": "stream",
     "text": [
      "i:  669 best value:  4.52712907864e+13\n",
      "i:  679 best value:  5.45230439919e+13\n",
      "i:  689 best value:  6.54440310566e+13\n",
      "i:  699 best value:  7.8290469989e+13\n",
      "i:  709 best value:  9.33415447729e+13\n",
      "i:  719 best value:  1.10956964381e+14\n",
      "i:  729 best value:  1.31555006884e+14\n",
      "i:  739 best value:  1.55564469897e+14\n",
      "i:  749 best value:  1.83432357968e+14\n",
      "i:  759 best value:  2.15749310302e+14\n",
      "i:  769 best value:  2.53177193896e+14\n"
     ]
    },
    {
     "name": "stderr",
     "output_type": "stream",
     "text": [
      " 84%|████████▍ | 842/1000 [00:01<00:00, 515.31it/s]"
     ]
    },
    {
     "name": "stdout",
     "output_type": "stream",
     "text": [
      "i:  779 best value:  2.96358864251e+14\n",
      "i:  789 best value:  3.45933223123e+14\n",
      "i:  799 best value:  4.02740548855e+14\n",
      "i:  809 best value:  4.67704763066e+14\n",
      "i:  819 best value:  5.41860988785e+14\n",
      "i:  829 best value:  6.26403705337e+14\n",
      "i:  839 best value:  7.22548815653e+14\n",
      "i:  849 best value:  8.31651901358e+14\n",
      "i:  859 best value:  9.55342424155e+14\n",
      "i:  869 best value:  1.09538563607e+15\n"
     ]
    },
    {
     "name": "stderr",
     "output_type": "stream",
     "text": [
      " 95%|█████████▍| 946/1000 [00:01<00:00, 512.86it/s]"
     ]
    },
    {
     "name": "stdout",
     "output_type": "stream",
     "text": [
      "i:  879 best value:  1.25359579515e+15\n",
      "i:  889 best value:  1.43192810988e+15\n",
      "i:  899 best value:  1.63248937073e+15\n",
      "i:  909 best value:  1.85731754479e+15\n",
      "i:  919 best value:  2.10859350203e+15\n",
      "i:  929 best value:  2.38853070951e+15\n",
      "i:  939 best value:  2.69926469594e+15\n",
      "i:  949 best value:  3.04383050831e+15\n",
      "i:  959 best value:  3.42535656177e+15\n",
      "i:  969 best value:  3.84787792252e+15\n",
      "i: "
     ]
    },
    {
     "name": "stderr",
     "output_type": "stream",
     "text": [
      "100%|██████████| 1000/1000 [00:01<00:00, 508.93it/s]"
     ]
    },
    {
     "name": "stdout",
     "output_type": "stream",
     "text": [
      " 979 best value:  4.31693823044e+15\n",
      "i:  989 best value:  4.8365578849e+15\n",
      "i:  999 best value:  5.40963262196e+15\n"
     ]
    },
    {
     "name": "stderr",
     "output_type": "stream",
     "text": [
      "\n"
     ]
    }
   ],
   "source": [
    "for i in trange(1000):\n",
    "    x = np.random.rand(7)*100\n",
    "#     print(\"x: \", x)\n",
    "    y = y_fun(x)\n",
    "    \n",
    "    agent.store_transition(x, y)\n",
    "    \n",
    "    if (i+1)%10 == 0:\n",
    "        x = agent.choose_action( [1.] )\n",
    "        print(\"i: \", i, \"best value: \", y_fun(x))\n",
    "        best_value_save.append( y_fun(x) )"
   ]
  },
  {
   "cell_type": "code",
   "execution_count": null,
   "metadata": {},
   "outputs": [],
   "source": []
  },
  {
   "cell_type": "code",
   "execution_count": 10,
   "metadata": {},
   "outputs": [],
   "source": [
    "import numpy as np\n",
    "\n",
    "%matplotlib inline\n",
    "import matplotlib.pyplot as plt"
   ]
  },
  {
   "cell_type": "code",
   "execution_count": 11,
   "metadata": {},
   "outputs": [],
   "source": [
    "all_reward = best_value_save"
   ]
  },
  {
   "cell_type": "code",
   "execution_count": 12,
   "metadata": {},
   "outputs": [
    {
     "data": {
      "image/png": "[encoded data removed]",
      "text/plain": [
       "<matplotlib.figure.Figure at 0x7fa5f69fdc50>"
      ]
     },
     "metadata": {},
     "output_type": "display_data"
    }
   ],
   "source": [
    "fig = plt.figure()\n",
    "ax = fig.add_subplot(111)\n",
    "# ax.plot([1, 2, 3, 4], [10, 20, 25, 30], color='lightblue', linewidth=3) # plot line\n",
    "ax.scatter(range(len(all_reward)), all_reward, color='green', marker='^') # plot points\n",
    "# ax.set_xlim(0.5, 4.5)\n",
    "plt.show()"
   ]
  },
  {
   "cell_type": "code",
   "execution_count": null,
   "metadata": {},
   "outputs": [],
   "source": []
  }
 ],
 "metadata": {
  "kernelspec": {
   "display_name": "Python 3",
   "language": "python",
   "name": "python3"
  },
  "language_info": {
   "codemirror_mode": {
    "name": "ipython",
    "version": 3
   },
   "file_extension": ".py",
   "mimetype": "text/x-python",
   "name": "python",
   "nbconvert_exporter": "python",
   "pygments_lexer": "ipython3",
   "version": "3.5.2"
  }
 },
 "nbformat": 4,
 "nbformat_minor": 2
}
